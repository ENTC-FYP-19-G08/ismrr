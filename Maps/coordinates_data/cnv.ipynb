{
 "cells": [
  {
   "cell_type": "code",
   "execution_count": 2,
   "metadata": {},
   "outputs": [
    {
     "name": "stdout",
     "output_type": "stream",
     "text": [
      "Vision Lab, 437, 276\n",
      "Lift, 408, 115\n",
      "PG Seminar Room, 417, 107\n",
      "Telecom Lab, 167, 413\n",
      "PG Lab, 194, 407\n",
      "3.5 Lecture Hall, 307, 178\n",
      "Washrooms, 411, 109\n",
      "Home, 451, 275\n"
     ]
    }
   ],
   "source": [
    "class tmp:pass\n",
    "\n",
    "def grid_to_pixel_cvt(x,y):\n",
    "    self=tmp()\n",
    "    self.resolution = 0.05\n",
    "    self.origin_x = -21.3\n",
    "    self.origin_y = -20.1\n",
    "    self.height = 653\n",
    "    return (int(((float(x)- self.origin_x)//self.resolution)) , self.height-int((float(y)- self.origin_y)//self.resolution))\n",
    "\n",
    "with open(\"locations.txt\") as fl:\n",
    "    for line in fl.read().splitlines():\n",
    "        code,x,y,name=line.split(',')\n",
    "        print(f\"{name}\",*grid_to_pixel_cvt(x,y),sep=', ')\n",
    "\n",
    "\n",
    "\n",
    "\n",
    "\n"
   ]
  }
 ],
 "metadata": {
  "kernelspec": {
   "display_name": "Python 3",
   "language": "python",
   "name": "python3"
  },
  "language_info": {
   "codemirror_mode": {
    "name": "ipython",
    "version": 3
   },
   "file_extension": ".py",
   "mimetype": "text/x-python",
   "name": "python",
   "nbconvert_exporter": "python",
   "pygments_lexer": "ipython3",
   "version": "3.8.10"
  }
 },
 "nbformat": 4,
 "nbformat_minor": 2
}
