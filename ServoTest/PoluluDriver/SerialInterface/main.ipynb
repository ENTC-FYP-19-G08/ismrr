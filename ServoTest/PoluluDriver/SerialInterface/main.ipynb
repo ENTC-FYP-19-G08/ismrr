{
 "cells": [
  {
   "cell_type": "code",
   "execution_count": null,
   "metadata": {},
   "outputs": [],
   "source": [
    "import serial\n",
    "\n",
    "ser = serial.Serial('COM12', 9600)\n",
    "command=b'\\xa7'\n",
    "subroute=b'\\x00'\n",
    "ser.write(command)\n",
    "ser.write(subroute)\n",
    "\n",
    "ser.close()"
   ]
  }
 ],
 "metadata": {
  "language_info": {
   "name": "python"
  }
 },
 "nbformat": 4,
 "nbformat_minor": 2
}
