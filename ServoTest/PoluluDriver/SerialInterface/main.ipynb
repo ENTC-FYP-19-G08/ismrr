{
 "cells": [
  {
   "cell_type": "code",
   "execution_count": 26,
   "metadata": {},
   "outputs": [],
   "source": [
    "import serial\n",
    "\n",
    "ser = serial.Serial('COM15', 9600)\n",
    "command=b'\\xa7'\n",
    "subroute=b'\\x05'\n",
    "ser.write(command)\n",
    "ser.write(subroute)\n",
    "\n",
    "ser.close()"
   ]
  },
  {
   "cell_type": "code",
   "execution_count": 23,
   "metadata": {},
   "outputs": [
    {
     "name": "stdout",
     "output_type": "stream",
     "text": [
      "\u0006\n"
     ]
    }
   ],
   "source": [
    "\n",
    "print(chr())"
   ]
  },
  {
   "cell_type": "code",
   "execution_count": 21,
   "metadata": {},
   "outputs": [
    {
     "ename": "TypeError",
     "evalue": "string argument without an encoding",
     "output_type": "error",
     "traceback": [
      "\u001b[1;31m---------------------------------------------------------------------------\u001b[0m",
      "\u001b[1;31mTypeError\u001b[0m                                 Traceback (most recent call last)",
      "\u001b[1;32mm:\\Academics\\FYP\\ismrr\\ServoTest\\PoluluDriver\\SerialInterface\\main.ipynb Cell 3\u001b[0m line \u001b[0;36m<module>\u001b[1;34m\u001b[0m\n\u001b[1;32m----> <a href='vscode-notebook-cell:/m%3A/Academics/FYP/ismrr/ServoTest/PoluluDriver/SerialInterface/main.ipynb#W3sZmlsZQ%3D%3D?line=0'>1</a>\u001b[0m sub\u001b[39m=\u001b[39m\u001b[39mbytes\u001b[39;49m(\u001b[39mchr\u001b[39;49m(\u001b[39m4\u001b[39;49m))\n\u001b[0;32m      <a href='vscode-notebook-cell:/m%3A/Academics/FYP/ismrr/ServoTest/PoluluDriver/SerialInterface/main.ipynb#W3sZmlsZQ%3D%3D?line=1'>2</a>\u001b[0m \u001b[39mprint\u001b[39m(sub, \u001b[39mtype\u001b[39m(sub))\n",
      "\u001b[1;31mTypeError\u001b[0m: string argument without an encoding"
     ]
    }
   ],
   "source": [
    "sub=bytes(chr(4))\n",
    "print(sub, type(sub))"
   ]
  },
  {
   "cell_type": "code",
   "execution_count": 8,
   "metadata": {},
   "outputs": [
    {
     "name": "stdout",
     "output_type": "stream",
     "text": [
      "servo init\n",
      "moving\n",
      "moving\n",
      "moving\n",
      "moving\n",
      "moving\n",
      "moving\n",
      "moving\n",
      "moving\n",
      "moving\n",
      "moving\n",
      "moving\n",
      "moving\n",
      "moving\n",
      "moving\n",
      "moving\n",
      "moving\n",
      "moving\n",
      "moving\n",
      "moving\n",
      "moving\n",
      "moving\n",
      "moving\n",
      "moving\n",
      "moving\n",
      "moving\n",
      "moving\n",
      "moving\n",
      "moving\n",
      "moving\n",
      "moving\n",
      "moving\n",
      "moving\n",
      "moving\n",
      "moving\n",
      "moving\n",
      "moving\n",
      "moving\n",
      "moving\n",
      "moving\n",
      "moving\n",
      "moving\n",
      "moving\n",
      "moving\n",
      "moving\n",
      "moving\n",
      "moving\n",
      "moving\n",
      "moving\n",
      "moving\n",
      "moving\n",
      "moving\n",
      "moving\n"
     ]
    },
    {
     "ename": "KeyboardInterrupt",
     "evalue": "",
     "output_type": "error",
     "traceback": [
      "\u001b[1;31m---------------------------------------------------------------------------\u001b[0m",
      "\u001b[1;31mKeyboardInterrupt\u001b[0m                         Traceback (most recent call last)",
      "\u001b[1;32mm:\\Academics\\FYP\\ismrr\\ServoTest\\PoluluDriver\\SerialInterface\\main.ipynb Cell 2\u001b[0m line \u001b[0;36m<module>\u001b[1;34m\u001b[0m\n\u001b[0;32m      <a href='vscode-notebook-cell:/m%3A/Academics/FYP/ismrr/ServoTest/PoluluDriver/SerialInterface/main.ipynb#W1sZmlsZQ%3D%3D?line=6'>7</a>\u001b[0m \u001b[39mwhile\u001b[39;00m(servo\u001b[39m.\u001b[39mgetMovingState()):\n\u001b[0;32m      <a href='vscode-notebook-cell:/m%3A/Academics/FYP/ismrr/ServoTest/PoluluDriver/SerialInterface/main.ipynb#W1sZmlsZQ%3D%3D?line=7'>8</a>\u001b[0m     \u001b[39mprint\u001b[39m(\u001b[39m\"\u001b[39m\u001b[39mmoving\u001b[39m\u001b[39m\"\u001b[39m)\n\u001b[1;32m----> <a href='vscode-notebook-cell:/m%3A/Academics/FYP/ismrr/ServoTest/PoluluDriver/SerialInterface/main.ipynb#W1sZmlsZQ%3D%3D?line=8'>9</a>\u001b[0m     time\u001b[39m.\u001b[39;49msleep(\u001b[39m1\u001b[39;49m)\n\u001b[0;32m     <a href='vscode-notebook-cell:/m%3A/Academics/FYP/ismrr/ServoTest/PoluluDriver/SerialInterface/main.ipynb#W1sZmlsZQ%3D%3D?line=9'>10</a>\u001b[0m \u001b[39mprint\u001b[39m(\u001b[39m\"\u001b[39m\u001b[39mmoving finished\u001b[39m\u001b[39m\"\u001b[39m)\n\u001b[0;32m     <a href='vscode-notebook-cell:/m%3A/Academics/FYP/ismrr/ServoTest/PoluluDriver/SerialInterface/main.ipynb#W1sZmlsZQ%3D%3D?line=10'>11</a>\u001b[0m servo\u001b[39m.\u001b[39mclose()\n",
      "\u001b[1;31mKeyboardInterrupt\u001b[0m: "
     ]
    }
   ],
   "source": [
    "import maestro\n",
    "import time\n",
    "servo = maestro.Controller('COM15')\n",
    "print(\"servo init\")\n",
    "servo.runScriptSub(0)\n",
    "\n",
    "while(servo.getMovingState()):\n",
    "    print(\"moving\")\n",
    "    time.sleep(1)\n",
    "print(\"moving finished\")\n",
    "servo.close()"
   ]
  }
 ],
 "metadata": {
  "kernelspec": {
   "display_name": "Python 3",
   "language": "python",
   "name": "python3"
  },
  "language_info": {
   "codemirror_mode": {
    "name": "ipython",
    "version": 3
   },
   "file_extension": ".py",
   "mimetype": "text/x-python",
   "name": "python",
   "nbconvert_exporter": "python",
   "pygments_lexer": "ipython3",
   "version": "3.10.0"
  }
 },
 "nbformat": 4,
 "nbformat_minor": 2
}
